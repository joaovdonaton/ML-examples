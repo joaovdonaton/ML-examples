{
 "cells": [
  {
   "cell_type": "code",
   "execution_count": 21,
   "id": "159345af-4f30-405f-9500-d153e8f9925c",
   "metadata": {},
   "outputs": [
    {
     "name": "stdout",
     "output_type": "stream",
     "text": [
      "Path to dataset files: /home/joao/.cache/kagglehub/datasets/hassan06/nslkdd/versions/1\n"
     ]
    }
   ],
   "source": [
    "import kagglehub\n",
    "import pandas as pd\n",
    "import torch\n",
    "from sklearn.preprocessing import MinMaxScaler\n",
    "import matplotlib.pyplot as plt\n",
    "import numpy as np\n",
    "from torch.utils.data import Dataset, DataLoader\n",
    "import torch.nn.functional as F\n",
    "\n",
    "scaler = MinMaxScaler()\n",
    "\n",
    "# get dataset\n",
    "path = kagglehub.dataset_download(\"hassan06/nslkdd\")\n",
    "print(\"Path to dataset files:\", path)\n",
    "\n",
    "train_name, test_name = 'KDDTrain+.arff', 'KDDTest+.arff'"
   ]
  },
  {
   "cell_type": "code",
   "execution_count": 2,
   "id": "644607da-30c7-4bb7-bd6a-98181e629890",
   "metadata": {},
   "outputs": [],
   "source": [
    "# couldn't get arff loading libaries to work, so I'll do it manually\n",
    "def parse_arff(p):\n",
    "    with open(p, 'r') as f:\n",
    "        lines = f.readlines()\n",
    "\n",
    "        attribute_strings = [l.replace('\\n', '').replace('@attribute ', '') for l in lines if l.startswith('@attribute')]\n",
    "\n",
    "        attributes = {}\n",
    "        for s in attribute_strings:\n",
    "            # we only have attribute type real or categorical in this dataset\n",
    "            att_name = s[0:s.find(' ')].replace('\\'', '')\n",
    "            if s.endswith('real'):\n",
    "                attributes[att_name] = 'real'\n",
    "            else:\n",
    "                attributes[att_name] = eval(s[s.find(' ')+1:])\n",
    "\n",
    "        data_ind = -1 # data starts at this index\n",
    "        for i in range(len(lines)):\n",
    "            if lines[i].find('@data') != -1:\n",
    "                data_ind = i+1\n",
    "        \n",
    "        data = [] \n",
    "        positional_attribs = list(attributes.items()) # python 3.7+ guarantees dict order of insertion\n",
    "        for d in lines[data_ind:]:\n",
    "            attribs = d.replace('\\n', '').split(',')\n",
    "            row = []\n",
    "            for i in range(len(attribs)):\n",
    "                if positional_attribs[i][1] == 'real' or str(positional_attribs[i][1]) == '{\\'0\\', \\'1\\'}':\n",
    "                    row.append(float(attribs[i]))\n",
    "                else:\n",
    "                    row.append(str(attribs[i]))\n",
    "            data.append(row)\n",
    "\n",
    "    return attributes, data"
   ]
  },
  {
   "cell_type": "code",
   "execution_count": 3,
   "id": "a40db749-9534-41cf-b860-6055e59bc4ed",
   "metadata": {},
   "outputs": [],
   "source": [
    "attributes, train_data = parse_arff(path+'/'+train_name)\n",
    "_, test_data = parse_arff(path+'/'+test_name)\n",
    "\n",
    "train_data_df = pd.DataFrame(train_data, columns=list(attributes.keys()))\n",
    "test_data_df = pd.DataFrame(test_data, columns=list(attributes.keys()))\n",
    "\n",
    "# exclude anomalous entries for training set\n",
    "train_data_df = train_data_df[train_data_df['class'] == 'normal']\n",
    "\n",
    "# one hot encode categorical data (train and test)\n",
    "train_data_df['service'] = pd.Categorical(train_data_df['service'], categories=attributes['service'])\n",
    "train_data_df['flag'] = pd.Categorical(train_data_df['flag'], categories=attributes['flag'])\n",
    "train_data_df = pd.get_dummies(train_data_df, columns=['protocol_type', 'service', 'flag'])\n",
    "\n",
    "test_data_df['service'] = pd.Categorical(test_data_df['service'], categories=attributes['service'])\n",
    "test_data_df['flag'] = pd.Categorical(test_data_df['flag'], categories=attributes['flag'])\n",
    "test_data_df = pd.get_dummies(test_data_df, columns=['protocol_type', 'service', 'flag'])"
   ]
  },
  {
   "cell_type": "code",
   "execution_count": 4,
   "id": "ea12ae78-7fd6-4bf6-a1a4-e80abfcde8e8",
   "metadata": {},
   "outputs": [],
   "source": [
    "# before normalizing, let's see if we don't have any huge outliers since we're doing minmax scaling\n",
    "# we can exclude our hot encoded ones, and also ignore any of the rate features or booleans\n",
    "columns = list(train_data_df.columns)\n",
    "excluded_indexes = [i for i in range(columns.index('class'), len(columns))] # exclude all categorical hot encoded \n",
    "\n",
    "combined_np = np.vstack((train_data_df.to_numpy(), test_data_df.to_numpy()))\n",
    "for i in range(len(columns)):\n",
    "    if i not in excluded_indexes:\n",
    "        col = combined_np[:, i]\n",
    "        std = col.std()\n",
    "        if std != 0 and columns[i].find('rate') == -1 and columns[i].find('is_') == -1: \n",
    "            z_col = col/std\n",
    "            z_col = z_col[(z_col > 6) | (z_col < -6)] # count entries that are beyond 6 z-score range\n",
    "\n",
    "            # DEBUG\n",
    "            #print(f'for column {i} ({columns[i]}) std is {std:.2f}:', len(z_col))\n",
    "            #print(f'\\t z-score of 6 corresponds to {std*6:.2f}')\n",
    "    \n",
    "            # filter extremes\n",
    "            train_data_df = train_data_df[train_data_df[columns[i]] <= std*6]\n",
    "            test_data_df = test_data_df[test_data_df[columns[i]] <= std*6]\n",
    "        \n",
    "# investigate by plotting our samples\n",
    "#plt.scatter(np.linspace(0, 100000, len(train_data_df['duration'])), train_data_df['duration'], s=1)\n",
    "\n",
    "# maybe log transform some of the fields that have 0 or large values\n",
    "train_data_df['duration'] = np.log(train_data_df['duration']+0.001)\n",
    "train_data_df['src_bytes'] = np.log(train_data_df['src_bytes']+0.001)\n",
    "train_data_df['dst_bytes'] = np.log(train_data_df['dst_bytes']+0.001)"
   ]
  },
  {
   "cell_type": "code",
   "execution_count": 5,
   "id": "ef652808-3d58-4b05-ac00-519272cd7bce",
   "metadata": {},
   "outputs": [
    {
     "name": "stdout",
     "output_type": "stream",
     "text": [
      "65614\n",
      "20880\n"
     ]
    }
   ],
   "source": [
    "print(len(train_data_df))\n",
    "print(len(test_data_df))"
   ]
  },
  {
   "cell_type": "code",
   "execution_count": 6,
   "id": "8c46afc5-b23f-476d-95f4-e702d5ca571d",
   "metadata": {},
   "outputs": [],
   "source": [
    "# get rid of class column for training and normalize\n",
    "train_data_df = train_data_df.drop(columns=['class'])\n",
    "data = scaler.fit_transform(train_data_df)"
   ]
  },
  {
   "cell_type": "code",
   "execution_count": 9,
   "id": "641b598d-772a-459a-82f6-418476542228",
   "metadata": {},
   "outputs": [],
   "source": [
    "# We'll use pytorch to implement our model\n",
    "# source for architecture: https://pmc.ncbi.nlm.nih.gov/articles/PMC8272075/pdf/sensors-21-04294.pdf\n",
    "# Apparently, it looks like different depth and hidden layer neuron numbers achieve very similar results on this dataset\n",
    "# We'll go for a symmetric autoencoder with depth of 5 with 64 neurons on the first hidden layer (subsequent layers divide number of neurons by 2)\n",
    "class Autoencoder(torch.nn.Module):\n",
    "    def __init__(self, input_dim, latent_dim):\n",
    "        super().__init__()\n",
    "        self.encoder = torch.nn.Sequential(\n",
    "            torch.nn.Linear(input_dim, 64),\n",
    "            torch.nn.ReLU(),\n",
    "            torch.nn.Linear(64, 32),\n",
    "            torch.nn.ReLU(),\n",
    "            torch.nn.Linear(32, latent_dim),\n",
    "            # torch.nn.ReLU() MAYBE?\n",
    "        )\n",
    "\n",
    "        self.decoder = torch.nn.Sequential(\n",
    "            torch.nn.Linear(latent_dim, 32),\n",
    "            torch.nn.ReLU(),\n",
    "            torch.nn.Linear(32, 64),\n",
    "            torch.nn.ReLU(),\n",
    "            torch.nn.Linear(64, input_dim),\n",
    "            torch.nn.Sigmoid()\n",
    "        )\n",
    "\n",
    "    def forward(self, x):\n",
    "        return self.decoder(self.encoder(x))\n",
    "\n",
    "\n",
    "class SampleDataset(Dataset): # want this so I can use dataloader\n",
    "    def __init__(self, data_matrix, labels=None):\n",
    "        self.data = torch.from_numpy(data_matrix).float()\n",
    "\n",
    "        if torch.cuda.is_available():\n",
    "            self.data = self.data.to('cuda')\n",
    "        \n",
    "        self.labels = labels\n",
    "    \n",
    "    def __len__(self):\n",
    "        return self.data.shape[0]\n",
    "\n",
    "    def __getitem__(self, ind):\n",
    "        if self.labels is None:\n",
    "            return self.data[ind]\n",
    "        else:\n",
    "            return (self.data[ind], self.labels[ind])\n",
    "    "
   ]
  },
  {
   "cell_type": "code",
   "execution_count": 10,
   "id": "db2ad599-73aa-4bc0-afb4-a6898efec57c",
   "metadata": {},
   "outputs": [],
   "source": [
    "model = Autoencoder(data.shape[1], 3)\n",
    "\n",
    "if torch.cuda.is_available():\n",
    "    model = model.to('cuda')\n",
    "\n",
    "#model.forward(torch.from_numpy(data[0]).float())\n",
    "\n",
    "loss_fun = torch.nn.MSELoss()\n",
    "optimizer = torch.optim.AdamW(model.parameters(), lr=0.0001)\n",
    "\n",
    "dataset = SampleDataset(data)\n",
    "loader = DataLoader(dataset, shuffle=True, batch_size=64)"
   ]
  },
  {
   "cell_type": "code",
   "execution_count": 12,
   "id": "82535d41-0d19-4a09-a94e-2723b230475b",
   "metadata": {},
   "outputs": [
    {
     "name": "stdout",
     "output_type": "stream",
     "text": [
      "AT EPOCH 0\n",
      "AT EPOCH 1\n",
      "AT EPOCH 2\n",
      "AT EPOCH 3\n",
      "AT EPOCH 4\n",
      "AT EPOCH 5\n",
      "AT EPOCH 6\n",
      "AT EPOCH 7\n",
      "AT EPOCH 8\n",
      "AT EPOCH 9\n",
      "AT EPOCH 10\n",
      "AT EPOCH 11\n",
      "AT EPOCH 12\n",
      "AT EPOCH 13\n",
      "AT EPOCH 14\n",
      "AT EPOCH 15\n",
      "AT EPOCH 16\n",
      "AT EPOCH 17\n",
      "AT EPOCH 18\n",
      "AT EPOCH 19\n"
     ]
    }
   ],
   "source": [
    "MAX_EPOCH = 20\n",
    "\n",
    "loss_log = []\n",
    "for e in range(MAX_EPOCH):\n",
    "    print('AT EPOCH ' + str(e))\n",
    "    loss_sum = 0\n",
    "    count = 0\n",
    "    for s in loader:\n",
    "        count += 1\n",
    "        \n",
    "        output = model.forward(s)\n",
    "        loss = loss_fun(output, s)\n",
    "        loss_sum += loss.item()\n",
    "\n",
    "        optimizer.zero_grad()\n",
    "        loss.backward()\n",
    "        optimizer.step()\n",
    "\n",
    "        if count % 100 == 0:\n",
    "            loss_log.append(loss_sum/count)"
   ]
  },
  {
   "cell_type": "code",
   "execution_count": 13,
   "id": "5c1dd98e-e663-4b43-9e27-e7fbed023134",
   "metadata": {},
   "outputs": [
    {
     "data": {
      "text/plain": [
       "[<matplotlib.lines.Line2D at 0x7ff7ac7603e0>]"
      ]
     },
     "execution_count": 13,
     "metadata": {},
     "output_type": "execute_result"
    },
    {
     "data": {
      "image/png": "[encoded data removed]",
      "text/plain": [
       "<Figure size 640x480 with 1 Axes>"
      ]
     },
     "metadata": {},
     "output_type": "display_data"
    }
   ],
   "source": [
    "plt.plot(np.linspace(0, len(loss_log), len(loss_log)), loss_log)"
   ]
  },
  {
   "cell_type": "code",
   "execution_count": 54,
   "id": "0e672260-54ca-477b-b9b3-2d4d0d3df566",
   "metadata": {},
   "outputs": [
    {
     "name": "stdout",
     "output_type": "stream",
     "text": [
      "Standard deviation: 0.005464605320023327\n",
      ": 0.02185842128009331\n"
     ]
    }
   ],
   "source": [
    "# Determine threshold for anomaly based on train set\n",
    "errors = np.array([])\n",
    "with torch.no_grad():\n",
    "    for s in loader:\n",
    "        reconstruction = model.forward(s)\n",
    "        e = np.mean(((reconstruction-s)**2).cpu().numpy(), axis=1) # along elements of each row\n",
    "        errors = np.concatenate((errors, e))\n",
    "\n",
    "std = errors.std()\n",
    "print(f'Standard deviation: {std}')\n",
    "\n",
    "# for now let's say 4 z scores away is anomaly\n",
    "threshold_error = std*4\n",
    "print(f': {threshold_error}')"
   ]
  },
  {
   "cell_type": "code",
   "execution_count": 70,
   "id": "c4ed550d-f86c-483a-9ed7-97d254c3f517",
   "metadata": {},
   "outputs": [
    {
     "name": "stdout",
     "output_type": "stream",
     "text": [
      "85.378%\n"
     ]
    }
   ],
   "source": [
    "# Test set inference\n",
    "data = scaler.fit_transform(test_data_df.drop(columns=['class']))\n",
    "\n",
    "test_dataset = SampleDataset(data, test_data_df['class'].to_numpy())\n",
    "test_loader = DataLoader(test_dataset, shuffle=True, batch_size=64)\n",
    "\n",
    "correct = 0\n",
    "total = 0\n",
    "with torch.no_grad():\n",
    "    for samples in test_loader:\n",
    "        inputs, labels = samples\n",
    "\n",
    "        reconstruction = model.forward(inputs)\n",
    "        \n",
    "        e = np.mean(((reconstruction-inputs)**2).cpu().numpy(), axis=1)\n",
    "        anomalies = e > threshold_error\n",
    "\n",
    "        correct += (anomalies == [True if l == 'anomaly' else False for l in labels]).sum()\n",
    "        total += 64\n",
    "\n",
    "print(f'{100*(correct/total):.3f}%')"
   ]
  },
  {
   "cell_type": "code",
   "execution_count": null,
   "id": "41158ae8-96f1-45e8-ba08-9fef5cfe52bc",
   "metadata": {},
   "outputs": [],
   "source": []
  }
 ],
 "metadata": {
  "kernelspec": {
   "display_name": "Python 3 (ipykernel)",
   "language": "python",
   "name": "python3"
  },
  "language_info": {
   "codemirror_mode": {
    "name": "ipython",
    "version": 3
   },
   "file_extension": ".py",
   "mimetype": "text/x-python",
   "name": "python",
   "nbconvert_exporter": "python",
   "pygments_lexer": "ipython3",
   "version": "3.12.8"
  }
 },
 "nbformat": 4,
 "nbformat_minor": 5
}
