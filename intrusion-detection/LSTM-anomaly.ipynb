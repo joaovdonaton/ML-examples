{
 "cells": [
  {
   "cell_type": "code",
   "execution_count": null,
   "id": "ec2e6fd0-f3c2-4db8-abbc-a5d99dce6d25",
   "metadata": {},
   "outputs": [],
   "source": [
    "import pandas as pd\n",
    "import numpy as np\n",
    "import statistics\n",
    "\n",
    "RAW_DATA_PATH = \"./data/UNSW-NB15_?.csv\" # replace ? with 1,2,3,4\n",
    "FEATURE_PATH = \"./data/NUSW-NB15_features.csv\""
   ]
  },
  {
   "cell_type": "code",
   "execution_count": null,
   "id": "6e3b5680-8020-4ba3-b26d-e6f82a59e3f0",
   "metadata": {},
   "outputs": [],
   "source": [
    "# Read datasets (see README.md for source)\n",
    "\n",
    "features = pd.read_csv(FEATURE_PATH, encoding='cp1252').drop(columns=['No.'])\n",
    "column_names = list(features['Name'])\n",
    "column_types = {}\n",
    "\n",
    "# for some reason there is some weirdness columns like ports being in hexadecimal sometimes?\n",
    "for ind, row in features.iterrows():\n",
    "    typ = row['Type '].lower()\n",
    "    if typ == 'nominal':\n",
    "        column_types[row['Name']] = str\n",
    "    elif typ == 'integer' or typ == 'timestamp' or typ == 'binary':\n",
    "        column_types[row['Name']] = np.int64\n",
    "    elif typ == 'float':\n",
    "        column_types[row['Name']] = np.float64\n",
    "\n",
    "dfs = []\n",
    "for i in range(1,5):\n",
    "    temp = pd.read_csv(RAW_DATA_PATH.replace('?', str(i)), names=column_names)\n",
    "\n",
    "    dfs.append(temp)\n",
    "\n",
    "raw_data = pd.concat(dfs)\n",
    "\n",
    "# sport and dport are string instead of int because there are some weird entries \n",
    "# exclude rows with '-' ports and convert hex ports to int \n",
    "exclude_ind = []\n",
    "\n",
    "for ind, d in raw_data.iterrows():\n",
    "    if d['sport'] == '-' or d['dsport'] == '-':\n",
    "        exclude_ind.append(ind)\n",
    "\n",
    "raw_data = raw_data.drop(exclude_ind)\n",
    "\n",
    "# convert the hex values to ints\n",
    "def convert_to_int(v): \n",
    "    if type(v) == str:\n",
    "        return int(v, 16)\n",
    "    return v\n",
    "\n",
    "raw_data['sport'] = raw_data['sport'].apply(convert_to_int)\n",
    "raw_data['dsport'] = raw_data['dsport'].apply(convert_to_int)"
   ]
  },
  {
   "cell_type": "code",
   "execution_count": null,
   "id": "cd3aa08b-b778-408f-8a66-3aa5f56ef039",
   "metadata": {},
   "outputs": [],
   "source": [
    "# Now we want to break out data into sequences\n",
    "TIME_WINDOW = 60 * 2 \n",
    "\n",
    "raw_data = raw_data.sort_values(by=['Stime'])\n",
    "\n",
    "groups = raw_data.groupby(by=['srcip', 'dstip']) # should be same order as in original df"
   ]
  },
  {
   "cell_type": "code",
   "execution_count": null,
   "id": "0dc95ddc-720e-4427-bca4-a09bfc5ab134",
   "metadata": {},
   "outputs": [],
   "source": [
    "for name, g in groups:\n",
    "    break\n",
    "    print(f'{n}    {type(g)}')\n",
    "    print(g)\n",
    "\n",
    "\n",
    "g = groups.get_group(('59.166.0.0', '149.171.126.6'))\n",
    "start_times = g['Stime']\n",
    "\n",
    "sequences = []\n",
    "window_start_time = 0\n",
    "current_seq = []\n",
    "for ind, data in g.iterrows():\n",
    "    if window_start_time == 0:\n",
    "        window_start_time = data['Stime']\n",
    "    \n",
    "    #print(f'{ind} is {data['Stime']}')\n",
    "\n",
    "    current_seq.append(data)\n",
    "\n",
    "    if (data['Stime']-window_start_time) >= TIME_WINDOW:\n",
    "        window_start_time = 0\n",
    "        sequences.append(current_seq)\n",
    "        current_seq = []\n",
    "\n",
    "print(len(sequences))"
   ]
  },
  {
   "cell_type": "code",
   "execution_count": null,
   "id": "b9956949-d651-4786-955e-cc7a39822f2d",
   "metadata": {},
   "outputs": [],
   "source": [
    "p = [len(s) for s in sequences]\n",
    "\n",
    "print(f'min length is {min(p)}\\nmax is {max(p)} \\nmean is {statistics.mean(p)}')"
   ]
  },
  {
   "cell_type": "code",
   "execution_count": null,
   "id": "7378e7f1-c0a1-4d1b-92e2-b210ed79607a",
   "metadata": {},
   "outputs": [],
   "source": [
    "# DEBUG CODE\n",
    "\n",
    "for j in dfs:\n",
    "    zero_cnt = 0\n",
    "    for i in j['Stime'].to_numpy():\n",
    "        if i == 0: zero_cnt += 1\n",
    "\n",
    "zero_cnt\n",
    "\n",
    "###\n",
    "for i in range(len(column_names)):\n",
    "    print(f'{column_names[i]} - {dfs[0][column_names[i]].dtype} {dfs[1][column_names[i]].dtype} {dfs[2][column_names[i]].dtype} {dfs[3][column_names[i]].dtype}')\n",
    "\n",
    "\n",
    "###\n",
    "for c in column_names:\n",
    "    print(f'Column {c} has type {raw_data[c].dtype}')"
   ]
  },
  {
   "cell_type": "code",
   "execution_count": null,
   "id": "bbaeea93-206b-4987-9b29-8311a3cedb22",
   "metadata": {},
   "outputs": [],
   "source": []
  }
 ],
 "metadata": {
  "kernelspec": {
   "display_name": "Python 3 (ipykernel)",
   "language": "python",
   "name": "python3"
  },
  "language_info": {
   "codemirror_mode": {
    "name": "ipython",
    "version": 3
   },
   "file_extension": ".py",
   "mimetype": "text/x-python",
   "name": "python",
   "nbconvert_exporter": "python",
   "pygments_lexer": "ipython3",
   "version": "3.12.8"
  }
 },
 "nbformat": 4,
 "nbformat_minor": 5
}
